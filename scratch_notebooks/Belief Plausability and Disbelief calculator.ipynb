{
 "cells": [
  {
   "cell_type": "markdown",
   "metadata": {},
   "source": [
    "- Chosen file format inputs\n",
    "    - json\n",
    "    - csv\n",
    "    - dictionary\n",
    "    - numpy array\n",
    "    - list of tuples\n",
    "\n",
    "**Target** => pandas dataframe"
   ]
  },
  {
   "cell_type": "markdown",
   "metadata": {},
   "source": [
    "# Example under consideration\n",
    "| Event(**key**) | Mass |\n",
    "| --- | --- |\n",
    "| No one is guilty(**phi**) | 0 |\n",
    "| B is guilty(**B**) | 0.1 |\n",
    "| J is guilty(**J**) | 0.2 |\n",
    "| S is guilty(**S**) | 0.1 |\n",
    "| B or J are guilty(**BJ**) | 0.1 |\n",
    "| S or J are guilty(**SJ**) | 0.3 |\n",
    "| B or S are guilty(**BS**) | 0.1 |\n",
    "| One of the 3 guilty(**BJS**) | 0.1 |"
   ]
  },
  {
   "cell_type": "code",
   "execution_count": 1,
   "metadata": {},
   "outputs": [],
   "source": [
    "import pandas as pd\n",
    "import json\n",
    "import numpy as np"
   ]
  },
  {
   "cell_type": "code",
   "execution_count": 2,
   "metadata": {},
   "outputs": [],
   "source": [
    "# define global df\n",
    "global df"
   ]
  },
  {
   "cell_type": "code",
   "execution_count": 15,
   "metadata": {
    "scrolled": false
   },
   "outputs": [
    {
     "data": {
      "text/html": [
       "<div>\n",
       "<style scoped>\n",
       "    .dataframe tbody tr th:only-of-type {\n",
       "        vertical-align: middle;\n",
       "    }\n",
       "\n",
       "    .dataframe tbody tr th {\n",
       "        vertical-align: top;\n",
       "    }\n",
       "\n",
       "    .dataframe thead th {\n",
       "        text-align: right;\n",
       "    }\n",
       "</style>\n",
       "<table border=\"1\" class=\"dataframe\">\n",
       "  <thead>\n",
       "    <tr style=\"text-align: right;\">\n",
       "      <th></th>\n",
       "      <th>Mass</th>\n",
       "    </tr>\n",
       "  </thead>\n",
       "  <tbody>\n",
       "    <tr>\n",
       "      <th>phi</th>\n",
       "      <td>0.0</td>\n",
       "    </tr>\n",
       "    <tr>\n",
       "      <th>B</th>\n",
       "      <td>0.1</td>\n",
       "    </tr>\n",
       "    <tr>\n",
       "      <th>J</th>\n",
       "      <td>0.2</td>\n",
       "    </tr>\n",
       "    <tr>\n",
       "      <th>S</th>\n",
       "      <td>0.1</td>\n",
       "    </tr>\n",
       "    <tr>\n",
       "      <th>BJ</th>\n",
       "      <td>0.1</td>\n",
       "    </tr>\n",
       "    <tr>\n",
       "      <th>SJ</th>\n",
       "      <td>0.3</td>\n",
       "    </tr>\n",
       "    <tr>\n",
       "      <th>BS</th>\n",
       "      <td>0.1</td>\n",
       "    </tr>\n",
       "    <tr>\n",
       "      <th>BJS</th>\n",
       "      <td>0.1</td>\n",
       "    </tr>\n",
       "  </tbody>\n",
       "</table>\n",
       "</div>"
      ],
      "text/plain": [
       "     Mass\n",
       "phi   0.0\n",
       "B     0.1\n",
       "J     0.2\n",
       "S     0.1\n",
       "BJ    0.1\n",
       "SJ    0.3\n",
       "BS    0.1\n",
       "BJS   0.1"
      ]
     },
     "metadata": {},
     "output_type": "display_data"
    }
   ],
   "source": [
    "# from_json helper\n",
    "with open(\"./sample_data1/sample_data1.json\", \"r\") as file:\n",
    "    data_dict = json.load(file)\n",
    "#     indices = data_dict.keys()\n",
    "#     values = list(data_dict.values())\n",
    "    df_inner = pd.DataFrame.from_dict(data_dict, columns=[\"Mass\"], orient=\"index\")\n",
    "    df = df_inner\n",
    "    df_inner.to_csv(\"./sample_data1/sample_data1.csv\", encoding=\"utf-8\")\n",
    "    df_dict = df_inner.to_dict()\n",
    "    df_list_of_tuples = df_inner.to_records()\n",
    "    df_numpy_array = np.array(df_inner.to_records().view(type=np.matrix))\n",
    "    display(df_inner)"
   ]
  },
  {
   "cell_type": "code",
   "execution_count": 51,
   "metadata": {},
   "outputs": [],
   "source": [
    "def from_json_helper(json_file_name):\n",
    "    with open(json_file_name, \"r\") as file:\n",
    "        data_dict = json.load(file)\n",
    "        return_df = pd.DataFrame.from_dict(data_dict, columns=[\"Mass\"], orient=\"index\")\n",
    "    return return_df"
   ]
  },
  {
   "cell_type": "code",
   "execution_count": 12,
   "metadata": {
    "scrolled": true
   },
   "outputs": [
    {
     "name": "stdout",
     "output_type": "stream",
     "text": [
      "{'phi': 0.0, 'B': 0.1, 'J': 0.2, 'S': 0.1, 'BJ': 0.1, 'SJ': 0.3, 'BS': 0.1, 'BJS': 0.1}\n"
     ]
    },
    {
     "data": {
      "text/html": [
       "<div>\n",
       "<style scoped>\n",
       "    .dataframe tbody tr th:only-of-type {\n",
       "        vertical-align: middle;\n",
       "    }\n",
       "\n",
       "    .dataframe tbody tr th {\n",
       "        vertical-align: top;\n",
       "    }\n",
       "\n",
       "    .dataframe thead th {\n",
       "        text-align: right;\n",
       "    }\n",
       "</style>\n",
       "<table border=\"1\" class=\"dataframe\">\n",
       "  <thead>\n",
       "    <tr style=\"text-align: right;\">\n",
       "      <th></th>\n",
       "      <th>Mass</th>\n",
       "    </tr>\n",
       "  </thead>\n",
       "  <tbody>\n",
       "    <tr>\n",
       "      <th>phi</th>\n",
       "      <td>0.0</td>\n",
       "    </tr>\n",
       "    <tr>\n",
       "      <th>B</th>\n",
       "      <td>0.1</td>\n",
       "    </tr>\n",
       "    <tr>\n",
       "      <th>J</th>\n",
       "      <td>0.2</td>\n",
       "    </tr>\n",
       "    <tr>\n",
       "      <th>S</th>\n",
       "      <td>0.1</td>\n",
       "    </tr>\n",
       "    <tr>\n",
       "      <th>BJ</th>\n",
       "      <td>0.1</td>\n",
       "    </tr>\n",
       "    <tr>\n",
       "      <th>SJ</th>\n",
       "      <td>0.3</td>\n",
       "    </tr>\n",
       "    <tr>\n",
       "      <th>BS</th>\n",
       "      <td>0.1</td>\n",
       "    </tr>\n",
       "    <tr>\n",
       "      <th>BJS</th>\n",
       "      <td>0.1</td>\n",
       "    </tr>\n",
       "  </tbody>\n",
       "</table>\n",
       "</div>"
      ],
      "text/plain": [
       "     Mass\n",
       "phi   0.0\n",
       "B     0.1\n",
       "J     0.2\n",
       "S     0.1\n",
       "BJ    0.1\n",
       "SJ    0.3\n",
       "BS    0.1\n",
       "BJS   0.1"
      ]
     },
     "metadata": {},
     "output_type": "display_data"
    }
   ],
   "source": [
    "# from_dict helper\n",
    "dict_input = df.to_dict()[\"Mass\"]\n",
    "print(dict_input)\n",
    "return_df = pd.DataFrame.from_dict(dict_input, orient=\"index\", columns=[\"Mass\"])\n",
    "display(return_df)"
   ]
  },
  {
   "cell_type": "code",
   "execution_count": 39,
   "metadata": {},
   "outputs": [],
   "source": [
    "def from_dict_helper(input_dict):\n",
    "    return_df = pd.DataFrame.from_dict(input_dict, orient=\"index\", columns=[\"Mass\"])\n",
    "    return return_df"
   ]
  },
  {
   "cell_type": "code",
   "execution_count": 37,
   "metadata": {},
   "outputs": [
    {
     "name": "stdout",
     "output_type": "stream",
     "text": [
      "{'phi': 0.0, 'B': 0.1, 'J': 0.2, 'S': 0.1, 'BJ': 0.1, 'SJ': 0.3, 'BS': 0.1, 'BJS': 0.1}\n"
     ]
    },
    {
     "data": {
      "text/html": [
       "<div>\n",
       "<style scoped>\n",
       "    .dataframe tbody tr th:only-of-type {\n",
       "        vertical-align: middle;\n",
       "    }\n",
       "\n",
       "    .dataframe tbody tr th {\n",
       "        vertical-align: top;\n",
       "    }\n",
       "\n",
       "    .dataframe thead th {\n",
       "        text-align: right;\n",
       "    }\n",
       "</style>\n",
       "<table border=\"1\" class=\"dataframe\">\n",
       "  <thead>\n",
       "    <tr style=\"text-align: right;\">\n",
       "      <th></th>\n",
       "      <th>Mass</th>\n",
       "    </tr>\n",
       "  </thead>\n",
       "  <tbody>\n",
       "    <tr>\n",
       "      <th>phi</th>\n",
       "      <td>0.0</td>\n",
       "    </tr>\n",
       "    <tr>\n",
       "      <th>B</th>\n",
       "      <td>0.1</td>\n",
       "    </tr>\n",
       "    <tr>\n",
       "      <th>J</th>\n",
       "      <td>0.2</td>\n",
       "    </tr>\n",
       "    <tr>\n",
       "      <th>S</th>\n",
       "      <td>0.1</td>\n",
       "    </tr>\n",
       "    <tr>\n",
       "      <th>BJ</th>\n",
       "      <td>0.1</td>\n",
       "    </tr>\n",
       "    <tr>\n",
       "      <th>SJ</th>\n",
       "      <td>0.3</td>\n",
       "    </tr>\n",
       "    <tr>\n",
       "      <th>BS</th>\n",
       "      <td>0.1</td>\n",
       "    </tr>\n",
       "    <tr>\n",
       "      <th>BJS</th>\n",
       "      <td>0.1</td>\n",
       "    </tr>\n",
       "  </tbody>\n",
       "</table>\n",
       "</div>"
      ],
      "text/plain": [
       "     Mass\n",
       "phi   0.0\n",
       "B     0.1\n",
       "J     0.2\n",
       "S     0.1\n",
       "BJ    0.1\n",
       "SJ    0.3\n",
       "BS    0.1\n",
       "BJS   0.1"
      ]
     },
     "metadata": {},
     "output_type": "display_data"
    }
   ],
   "source": [
    "# from_list_of_tuples helper\n",
    "list_of_tuples_input = df.to_records()\n",
    "print(dict(list_of_tuples_input))\n",
    "return_list_of_tuples_df = pd.DataFrame.from_dict(dict(list_of_tuples_input), columns=[\"Mass\"], orient=\"index\")\n",
    "display(return_list_of_tuples_df)"
   ]
  },
  {
   "cell_type": "code",
   "execution_count": 40,
   "metadata": {},
   "outputs": [],
   "source": [
    "def from_list_of_tuples_helper(list_of_tuples):\n",
    "    return_list_of_tuples_df = pd.DataFrame.from_dict(dict(list_of_tuples_input), columns=[\"Mass\"], orient=\"index\")\n",
    "    return return_list_of_tuples_df"
   ]
  },
  {
   "cell_type": "code",
   "execution_count": 29,
   "metadata": {},
   "outputs": [
    {
     "data": {
      "text/html": [
       "<div>\n",
       "<style scoped>\n",
       "    .dataframe tbody tr th:only-of-type {\n",
       "        vertical-align: middle;\n",
       "    }\n",
       "\n",
       "    .dataframe tbody tr th {\n",
       "        vertical-align: top;\n",
       "    }\n",
       "\n",
       "    .dataframe thead th {\n",
       "        text-align: right;\n",
       "    }\n",
       "</style>\n",
       "<table border=\"1\" class=\"dataframe\">\n",
       "  <thead>\n",
       "    <tr style=\"text-align: right;\">\n",
       "      <th></th>\n",
       "      <th>Mass</th>\n",
       "    </tr>\n",
       "  </thead>\n",
       "  <tbody>\n",
       "    <tr>\n",
       "      <th>phi</th>\n",
       "      <td>0.0</td>\n",
       "    </tr>\n",
       "    <tr>\n",
       "      <th>B</th>\n",
       "      <td>0.1</td>\n",
       "    </tr>\n",
       "    <tr>\n",
       "      <th>J</th>\n",
       "      <td>0.2</td>\n",
       "    </tr>\n",
       "    <tr>\n",
       "      <th>S</th>\n",
       "      <td>0.1</td>\n",
       "    </tr>\n",
       "    <tr>\n",
       "      <th>BJ</th>\n",
       "      <td>0.1</td>\n",
       "    </tr>\n",
       "    <tr>\n",
       "      <th>SJ</th>\n",
       "      <td>0.3</td>\n",
       "    </tr>\n",
       "    <tr>\n",
       "      <th>BS</th>\n",
       "      <td>0.1</td>\n",
       "    </tr>\n",
       "    <tr>\n",
       "      <th>BJS</th>\n",
       "      <td>0.1</td>\n",
       "    </tr>\n",
       "  </tbody>\n",
       "</table>\n",
       "</div>"
      ],
      "text/plain": [
       "     Mass\n",
       "phi   0.0\n",
       "B     0.1\n",
       "J     0.2\n",
       "S     0.1\n",
       "BJ    0.1\n",
       "SJ    0.3\n",
       "BS    0.1\n",
       "BJS   0.1"
      ]
     },
     "metadata": {},
     "output_type": "display_data"
    }
   ],
   "source": [
    "# from numpy_array helper\n",
    "np_array_input = np.array(df.to_records().view(type=np.matrix))\n",
    "return_np_array_df = pd.DataFrame(np_array_input[0], columns=[\"Mass\"], index=[i[0] for i in np_array_input[0]])\n",
    "display(return_np_array_df)"
   ]
  },
  {
   "cell_type": "code",
   "execution_count": 41,
   "metadata": {},
   "outputs": [],
   "source": [
    "def from_numpy_array_helper(np_array_input):\n",
    "    return_np_array_df = pd.DataFrame(np_array_input[0], columns=[\"Mass\"], index=[i[0] for i in np_array_input[0]])\n",
    "    return return_np_array_df"
   ]
  },
  {
   "cell_type": "code",
   "execution_count": 50,
   "metadata": {
    "scrolled": true
   },
   "outputs": [
    {
     "data": {
      "text/html": [
       "<div>\n",
       "<style scoped>\n",
       "    .dataframe tbody tr th:only-of-type {\n",
       "        vertical-align: middle;\n",
       "    }\n",
       "\n",
       "    .dataframe tbody tr th {\n",
       "        vertical-align: top;\n",
       "    }\n",
       "\n",
       "    .dataframe thead th {\n",
       "        text-align: right;\n",
       "    }\n",
       "</style>\n",
       "<table border=\"1\" class=\"dataframe\">\n",
       "  <thead>\n",
       "    <tr style=\"text-align: right;\">\n",
       "      <th></th>\n",
       "      <th>Mass</th>\n",
       "    </tr>\n",
       "  </thead>\n",
       "  <tbody>\n",
       "    <tr>\n",
       "      <th>phi</th>\n",
       "      <td>0.0</td>\n",
       "    </tr>\n",
       "    <tr>\n",
       "      <th>B</th>\n",
       "      <td>0.1</td>\n",
       "    </tr>\n",
       "    <tr>\n",
       "      <th>J</th>\n",
       "      <td>0.2</td>\n",
       "    </tr>\n",
       "    <tr>\n",
       "      <th>S</th>\n",
       "      <td>0.1</td>\n",
       "    </tr>\n",
       "    <tr>\n",
       "      <th>BJ</th>\n",
       "      <td>0.1</td>\n",
       "    </tr>\n",
       "    <tr>\n",
       "      <th>SJ</th>\n",
       "      <td>0.3</td>\n",
       "    </tr>\n",
       "    <tr>\n",
       "      <th>BS</th>\n",
       "      <td>0.1</td>\n",
       "    </tr>\n",
       "    <tr>\n",
       "      <th>BJS</th>\n",
       "      <td>0.1</td>\n",
       "    </tr>\n",
       "  </tbody>\n",
       "</table>\n",
       "</div>"
      ],
      "text/plain": [
       "     Mass\n",
       "phi   0.0\n",
       "B     0.1\n",
       "J     0.2\n",
       "S     0.1\n",
       "BJ    0.1\n",
       "SJ    0.3\n",
       "BS    0.1\n",
       "BJS   0.1"
      ]
     },
     "metadata": {},
     "output_type": "display_data"
    }
   ],
   "source": [
    "# from_csv helper\n",
    "return_csv_df = pd.read_csv(\"./sample_data1/sample_data1.csv\", index_col=0, header=None, names=[\"Mass\"])\n",
    "display(return_csv_df)"
   ]
  },
  {
   "cell_type": "code",
   "execution_count": 52,
   "metadata": {},
   "outputs": [],
   "source": [
    "def from_csv_helper(csv_file_name):\n",
    "    return_csv_df = pd.read_csv(\"./sample_data1/sample_data1.csv\", index_col=0, header=None, names=[\"Mass\"])\n",
    "    return return_csv_df"
   ]
  },
  {
   "cell_type": "code",
   "execution_count": 248,
   "metadata": {},
   "outputs": [],
   "source": [
    "from collections import defaultdict\n",
    "from itertools import combinations\n",
    "\n",
    "class MassFunction:\n",
    "    def __init__(self, input_var):\n",
    "        if type(input_var) == str:\n",
    "            ext = input_var.split(\".\")[-1]\n",
    "            if ext == \"json\":\n",
    "                self.frame_of_discernment = from_json_helper(input_var)\n",
    "            elif ext == \"csv\":\n",
    "                self.frame_of_discernment = from_csv_helper(input_var)\n",
    "        else:\n",
    "            if type(input_var) == dict:\n",
    "                self.frame_of_discernment = from_dict_helper(input_var)\n",
    "            elif type(input_var) == list:\n",
    "                self.frame_of_discernment = from_list_of_tuples_helper(input_var)\n",
    "            elif type(input_var) == np.ndarray:\n",
    "                self.frame_of_discernment = from_numpy_array_helper(input_var)\n",
    "                \n",
    "        assert self.frame_of_discernment is not None\n",
    "        self.frame_of_discernment.index = [\"phi\"] + [\"\".join(sorted(id)) for id in list(self.frame_of_discernment.index[1:])]\n",
    "        self.compute_metrics()\n",
    "        \n",
    "    def compute_metrics(self):\n",
    "        self.frame_of_discernment_indices_without_phi = list(self.frame_of_discernment.index[1:])\n",
    "        self.intersection_dict = defaultdict(list)\n",
    "        for a, b in list(combinations(self.frame_of_discernment_indices_without_phi, 2)):\n",
    "            if set(a).intersection(set(b)):\n",
    "                self.intersection_dict[a].append(b)\n",
    "                self.intersection_dict[b].append(a)\n",
    "        for key in self.intersection_dict.keys():\n",
    "            self.intersection_dict[key].append(key)\n",
    "        self.compute_belief()\n",
    "        self.compute_plausability_and_disbelief()\n",
    "        \n",
    "    def compute_belief(self):\n",
    "        self.belief = {}\n",
    "        focal_elements_ = []\n",
    "        for a in self.frame_of_discernment_indices_without_phi:\n",
    "            focal_elements_ = []\n",
    "            for i in range(1, len(a) + 1):\n",
    "                focal_elements_.extend([\"\".join(c) for c in list(combinations(a, i))])\n",
    "            self.belief.update({a:self.frame_of_discernment.reindex(focal_elements_).sum()[\"Mass\"]})\n",
    "        \n",
    "        assert self.belief is not None\n",
    "        \n",
    "    def compute_plausability_and_disbelief(self):\n",
    "        self.plausibility = {}\n",
    "        self.disbelief = {}\n",
    "        for a in self.intersection_dict.keys():\n",
    "            plausability_value = self.frame_of_discernment.reindex(self.intersection_dict[a]).sum()[\"Mass\"]\n",
    "            self.plausibility.update({a : plausability_value})\n",
    "            self.disbelief.update({a : 1 - plausability_value})\n",
    "    \n",
    "    def get_belief(self):\n",
    "        return self.belief\n",
    "        \n",
    "    def get_plausability(self):\n",
    "        return self.plausibility\n",
    "    \n",
    "    def get_disbelief(self):\n",
    "        return self.disbelief\n",
    "    \n",
    "    def __repr__(self):\n",
    "        display(self.frame_of_discernment)"
   ]
  },
  {
   "cell_type": "code",
   "execution_count": 249,
   "metadata": {},
   "outputs": [],
   "source": [
    "from itertools import  combinations\n",
    "from collections import defaultdict"
   ]
  },
  {
   "cell_type": "code",
   "execution_count": 250,
   "metadata": {
    "scrolled": true
   },
   "outputs": [],
   "source": [
    "a = MassFunction(\"./sample_data1/sample_data1.json\")"
   ]
  },
  {
   "cell_type": "code",
   "execution_count": 251,
   "metadata": {},
   "outputs": [
    {
     "data": {
      "text/html": [
       "<div>\n",
       "<style scoped>\n",
       "    .dataframe tbody tr th:only-of-type {\n",
       "        vertical-align: middle;\n",
       "    }\n",
       "\n",
       "    .dataframe tbody tr th {\n",
       "        vertical-align: top;\n",
       "    }\n",
       "\n",
       "    .dataframe thead th {\n",
       "        text-align: right;\n",
       "    }\n",
       "</style>\n",
       "<table border=\"1\" class=\"dataframe\">\n",
       "  <thead>\n",
       "    <tr style=\"text-align: right;\">\n",
       "      <th></th>\n",
       "      <th>Mass</th>\n",
       "    </tr>\n",
       "  </thead>\n",
       "  <tbody>\n",
       "    <tr>\n",
       "      <th>phi</th>\n",
       "      <td>0.0</td>\n",
       "    </tr>\n",
       "    <tr>\n",
       "      <th>B</th>\n",
       "      <td>0.1</td>\n",
       "    </tr>\n",
       "    <tr>\n",
       "      <th>J</th>\n",
       "      <td>0.2</td>\n",
       "    </tr>\n",
       "    <tr>\n",
       "      <th>S</th>\n",
       "      <td>0.1</td>\n",
       "    </tr>\n",
       "    <tr>\n",
       "      <th>BJ</th>\n",
       "      <td>0.1</td>\n",
       "    </tr>\n",
       "    <tr>\n",
       "      <th>JS</th>\n",
       "      <td>0.3</td>\n",
       "    </tr>\n",
       "    <tr>\n",
       "      <th>BS</th>\n",
       "      <td>0.1</td>\n",
       "    </tr>\n",
       "    <tr>\n",
       "      <th>BJS</th>\n",
       "      <td>0.1</td>\n",
       "    </tr>\n",
       "  </tbody>\n",
       "</table>\n",
       "</div>"
      ],
      "text/plain": [
       "     Mass\n",
       "phi   0.0\n",
       "B     0.1\n",
       "J     0.2\n",
       "S     0.1\n",
       "BJ    0.1\n",
       "JS    0.3\n",
       "BS    0.1\n",
       "BJS   0.1"
      ]
     },
     "execution_count": 251,
     "metadata": {},
     "output_type": "execute_result"
    }
   ],
   "source": [
    "a.frame_of_discernment"
   ]
  },
  {
   "cell_type": "code",
   "execution_count": 252,
   "metadata": {},
   "outputs": [
    {
     "data": {
      "text/plain": [
       "{'B': 0.1,\n",
       " 'J': 0.2,\n",
       " 'S': 0.1,\n",
       " 'BJ': 0.4,\n",
       " 'JS': 0.6000000000000001,\n",
       " 'BS': 0.30000000000000004,\n",
       " 'BJS': 0.9999999999999999}"
      ]
     },
     "execution_count": 252,
     "metadata": {},
     "output_type": "execute_result"
    }
   ],
   "source": [
    "a.get_belief()"
   ]
  },
  {
   "cell_type": "code",
   "execution_count": 253,
   "metadata": {},
   "outputs": [
    {
     "data": {
      "text/plain": [
       "{'B': 0.4,\n",
       " 'BJ': 0.9,\n",
       " 'BS': 0.8,\n",
       " 'BJS': 1.0,\n",
       " 'J': 0.7,\n",
       " 'JS': 0.8999999999999999,\n",
       " 'S': 0.6}"
      ]
     },
     "execution_count": 253,
     "metadata": {},
     "output_type": "execute_result"
    }
   ],
   "source": [
    "a.get_plausability()"
   ]
  },
  {
   "cell_type": "code",
   "execution_count": 254,
   "metadata": {},
   "outputs": [
    {
     "data": {
      "text/plain": [
       "{'B': 0.6,\n",
       " 'BJ': 0.09999999999999998,\n",
       " 'BS': 0.19999999999999996,\n",
       " 'BJS': 0.0,\n",
       " 'J': 0.30000000000000004,\n",
       " 'JS': 0.10000000000000009,\n",
       " 'S': 0.4}"
      ]
     },
     "execution_count": 254,
     "metadata": {},
     "output_type": "execute_result"
    }
   ],
   "source": [
    "a.get_disbelief()"
   ]
  },
  {
   "cell_type": "code",
   "execution_count": 255,
   "metadata": {},
   "outputs": [
    {
     "data": {
      "text/html": [
       "<div>\n",
       "<style scoped>\n",
       "    .dataframe tbody tr th:only-of-type {\n",
       "        vertical-align: middle;\n",
       "    }\n",
       "\n",
       "    .dataframe tbody tr th {\n",
       "        vertical-align: top;\n",
       "    }\n",
       "\n",
       "    .dataframe thead th {\n",
       "        text-align: right;\n",
       "    }\n",
       "</style>\n",
       "<table border=\"1\" class=\"dataframe\">\n",
       "  <thead>\n",
       "    <tr style=\"text-align: right;\">\n",
       "      <th></th>\n",
       "      <th>Mass</th>\n",
       "    </tr>\n",
       "  </thead>\n",
       "  <tbody>\n",
       "    <tr>\n",
       "      <th>phi</th>\n",
       "      <td>0.0</td>\n",
       "    </tr>\n",
       "    <tr>\n",
       "      <th>B</th>\n",
       "      <td>0.1</td>\n",
       "    </tr>\n",
       "    <tr>\n",
       "      <th>J</th>\n",
       "      <td>0.2</td>\n",
       "    </tr>\n",
       "    <tr>\n",
       "      <th>S</th>\n",
       "      <td>0.1</td>\n",
       "    </tr>\n",
       "    <tr>\n",
       "      <th>BJ</th>\n",
       "      <td>0.1</td>\n",
       "    </tr>\n",
       "    <tr>\n",
       "      <th>JS</th>\n",
       "      <td>0.3</td>\n",
       "    </tr>\n",
       "    <tr>\n",
       "      <th>BS</th>\n",
       "      <td>0.1</td>\n",
       "    </tr>\n",
       "    <tr>\n",
       "      <th>BJS</th>\n",
       "      <td>0.1</td>\n",
       "    </tr>\n",
       "  </tbody>\n",
       "</table>\n",
       "</div>"
      ],
      "text/plain": [
       "     Mass\n",
       "phi   0.0\n",
       "B     0.1\n",
       "J     0.2\n",
       "S     0.1\n",
       "BJ    0.1\n",
       "JS    0.3\n",
       "BS    0.1\n",
       "BJS   0.1"
      ]
     },
     "execution_count": 255,
     "metadata": {},
     "output_type": "execute_result"
    }
   ],
   "source": [
    "a = MassFunction(\"./sample_data1/sample_data1.csv\")\n",
    "a.frame_of_discernment"
   ]
  },
  {
   "cell_type": "code",
   "execution_count": 256,
   "metadata": {},
   "outputs": [
    {
     "data": {
      "text/html": [
       "<div>\n",
       "<style scoped>\n",
       "    .dataframe tbody tr th:only-of-type {\n",
       "        vertical-align: middle;\n",
       "    }\n",
       "\n",
       "    .dataframe tbody tr th {\n",
       "        vertical-align: top;\n",
       "    }\n",
       "\n",
       "    .dataframe thead th {\n",
       "        text-align: right;\n",
       "    }\n",
       "</style>\n",
       "<table border=\"1\" class=\"dataframe\">\n",
       "  <thead>\n",
       "    <tr style=\"text-align: right;\">\n",
       "      <th></th>\n",
       "      <th>Mass</th>\n",
       "    </tr>\n",
       "  </thead>\n",
       "  <tbody>\n",
       "    <tr>\n",
       "      <th>phi</th>\n",
       "      <td>0.0</td>\n",
       "    </tr>\n",
       "    <tr>\n",
       "      <th>B</th>\n",
       "      <td>0.1</td>\n",
       "    </tr>\n",
       "    <tr>\n",
       "      <th>J</th>\n",
       "      <td>0.2</td>\n",
       "    </tr>\n",
       "    <tr>\n",
       "      <th>S</th>\n",
       "      <td>0.1</td>\n",
       "    </tr>\n",
       "    <tr>\n",
       "      <th>BJ</th>\n",
       "      <td>0.1</td>\n",
       "    </tr>\n",
       "    <tr>\n",
       "      <th>JS</th>\n",
       "      <td>0.3</td>\n",
       "    </tr>\n",
       "    <tr>\n",
       "      <th>BS</th>\n",
       "      <td>0.1</td>\n",
       "    </tr>\n",
       "    <tr>\n",
       "      <th>BJS</th>\n",
       "      <td>0.1</td>\n",
       "    </tr>\n",
       "  </tbody>\n",
       "</table>\n",
       "</div>"
      ],
      "text/plain": [
       "     Mass\n",
       "phi   0.0\n",
       "B     0.1\n",
       "J     0.2\n",
       "S     0.1\n",
       "BJ    0.1\n",
       "JS    0.3\n",
       "BS    0.1\n",
       "BJS   0.1"
      ]
     },
     "execution_count": 256,
     "metadata": {},
     "output_type": "execute_result"
    }
   ],
   "source": [
    "a = MassFunction(df.to_dict()[\"Mass\"])\n",
    "a.frame_of_discernment"
   ]
  },
  {
   "cell_type": "code",
   "execution_count": 257,
   "metadata": {},
   "outputs": [
    {
     "data": {
      "text/html": [
       "<div>\n",
       "<style scoped>\n",
       "    .dataframe tbody tr th:only-of-type {\n",
       "        vertical-align: middle;\n",
       "    }\n",
       "\n",
       "    .dataframe tbody tr th {\n",
       "        vertical-align: top;\n",
       "    }\n",
       "\n",
       "    .dataframe thead th {\n",
       "        text-align: right;\n",
       "    }\n",
       "</style>\n",
       "<table border=\"1\" class=\"dataframe\">\n",
       "  <thead>\n",
       "    <tr style=\"text-align: right;\">\n",
       "      <th></th>\n",
       "      <th>Mass</th>\n",
       "    </tr>\n",
       "  </thead>\n",
       "  <tbody>\n",
       "    <tr>\n",
       "      <th>phi</th>\n",
       "      <td>0.0</td>\n",
       "    </tr>\n",
       "    <tr>\n",
       "      <th>B</th>\n",
       "      <td>0.1</td>\n",
       "    </tr>\n",
       "    <tr>\n",
       "      <th>J</th>\n",
       "      <td>0.2</td>\n",
       "    </tr>\n",
       "    <tr>\n",
       "      <th>S</th>\n",
       "      <td>0.1</td>\n",
       "    </tr>\n",
       "    <tr>\n",
       "      <th>BJ</th>\n",
       "      <td>0.1</td>\n",
       "    </tr>\n",
       "    <tr>\n",
       "      <th>JS</th>\n",
       "      <td>0.3</td>\n",
       "    </tr>\n",
       "    <tr>\n",
       "      <th>BS</th>\n",
       "      <td>0.1</td>\n",
       "    </tr>\n",
       "    <tr>\n",
       "      <th>BJS</th>\n",
       "      <td>0.1</td>\n",
       "    </tr>\n",
       "  </tbody>\n",
       "</table>\n",
       "</div>"
      ],
      "text/plain": [
       "     Mass\n",
       "phi   0.0\n",
       "B     0.1\n",
       "J     0.2\n",
       "S     0.1\n",
       "BJ    0.1\n",
       "JS    0.3\n",
       "BS    0.1\n",
       "BJS   0.1"
      ]
     },
     "execution_count": 257,
     "metadata": {},
     "output_type": "execute_result"
    }
   ],
   "source": [
    "a = MassFunction(list(df.to_records()))\n",
    "a.frame_of_discernment"
   ]
  },
  {
   "cell_type": "code",
   "execution_count": 258,
   "metadata": {},
   "outputs": [
    {
     "data": {
      "text/html": [
       "<div>\n",
       "<style scoped>\n",
       "    .dataframe tbody tr th:only-of-type {\n",
       "        vertical-align: middle;\n",
       "    }\n",
       "\n",
       "    .dataframe tbody tr th {\n",
       "        vertical-align: top;\n",
       "    }\n",
       "\n",
       "    .dataframe thead th {\n",
       "        text-align: right;\n",
       "    }\n",
       "</style>\n",
       "<table border=\"1\" class=\"dataframe\">\n",
       "  <thead>\n",
       "    <tr style=\"text-align: right;\">\n",
       "      <th></th>\n",
       "      <th>Mass</th>\n",
       "    </tr>\n",
       "  </thead>\n",
       "  <tbody>\n",
       "    <tr>\n",
       "      <th>phi</th>\n",
       "      <td>0.0</td>\n",
       "    </tr>\n",
       "    <tr>\n",
       "      <th>B</th>\n",
       "      <td>0.1</td>\n",
       "    </tr>\n",
       "    <tr>\n",
       "      <th>J</th>\n",
       "      <td>0.2</td>\n",
       "    </tr>\n",
       "    <tr>\n",
       "      <th>S</th>\n",
       "      <td>0.1</td>\n",
       "    </tr>\n",
       "    <tr>\n",
       "      <th>BJ</th>\n",
       "      <td>0.1</td>\n",
       "    </tr>\n",
       "    <tr>\n",
       "      <th>JS</th>\n",
       "      <td>0.3</td>\n",
       "    </tr>\n",
       "    <tr>\n",
       "      <th>BS</th>\n",
       "      <td>0.1</td>\n",
       "    </tr>\n",
       "    <tr>\n",
       "      <th>BJS</th>\n",
       "      <td>0.1</td>\n",
       "    </tr>\n",
       "  </tbody>\n",
       "</table>\n",
       "</div>"
      ],
      "text/plain": [
       "     Mass\n",
       "phi   0.0\n",
       "B     0.1\n",
       "J     0.2\n",
       "S     0.1\n",
       "BJ    0.1\n",
       "JS    0.3\n",
       "BS    0.1\n",
       "BJS   0.1"
      ]
     },
     "execution_count": 258,
     "metadata": {},
     "output_type": "execute_result"
    }
   ],
   "source": [
    "a = MassFunction(np_array_input)\n",
    "a.frame_of_discernment"
   ]
  }
 ],
 "metadata": {
  "kernelspec": {
   "display_name": "Python 3",
   "language": "python",
   "name": "python3"
  },
  "language_info": {
   "codemirror_mode": {
    "name": "ipython",
    "version": 3
   },
   "file_extension": ".py",
   "mimetype": "text/x-python",
   "name": "python",
   "nbconvert_exporter": "python",
   "pygments_lexer": "ipython3",
   "version": "3.6.6"
  }
 },
 "nbformat": 4,
 "nbformat_minor": 2
}
